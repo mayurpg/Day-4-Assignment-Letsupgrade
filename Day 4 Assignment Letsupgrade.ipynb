{
 "cells": [
  {
   "cell_type": "code",
   "execution_count": 14,
   "metadata": {},
   "outputs": [
    {
     "name": "stdout",
     "output_type": "stream",
     "text": [
      "The original string is : what we think we become ; we are python programmer\n",
      "The substring to find : we\n",
      "The start indices of the substrings are : [5, 14, 26]\n"
     ]
    }
   ],
   "source": [
    "#Assignment 1\n",
    "# All occurrences of substring in string \n",
    "# Using list comprehension + startswith() \n",
    "  \n",
    "# initializing string  \n",
    "test_str = \"what we think we become ; we are python programmer\"\n",
    "  \n",
    "# initializing substring \n",
    "test_sub = \"we\"\n",
    "  \n",
    "# printing original string  \n",
    "print(\"The original string is : \" + test_str) \n",
    "  \n",
    "# printing substring  \n",
    "print(\"The substring to find : \" + test_sub) \n",
    "  \n",
    "# using list comprehension + startswith() \n",
    "# All occurrences of substring in string  \n",
    "res = [i for i in range(len(test_str)) if test_str.startswith(test_sub, i)] \n",
    "  \n",
    "# printing result  \n",
    "print(\"The start indices of the substrings are : \" + str(res))"
   ]
  },
  {
   "cell_type": "code",
   "execution_count": 15,
   "metadata": {},
   "outputs": [
    {
     "name": "stdout",
     "output_type": "stream",
     "text": [
      "True\n",
      "True\n",
      "False\n"
     ]
    }
   ],
   "source": [
    "#Assignment 2\n",
    "\n",
    "#islower() method −\n",
    "s = 'this is good'\n",
    "print(s.islower())\n",
    "\n",
    "s = 'th!s is a1so g00d'\n",
    "print(s.islower())\n",
    "\n",
    "s = 'this is Not good'\n",
    "print(s.islower())"
   ]
  },
  {
   "cell_type": "code",
   "execution_count": 16,
   "metadata": {},
   "outputs": [
    {
     "name": "stdout",
     "output_type": "stream",
     "text": [
      "False\n",
      "False\n",
      "True\n"
     ]
    }
   ],
   "source": [
    "#isupper() method\n",
    "a = \"Hello World!\"\n",
    "b = \"hello 123\"\n",
    "c = \"MY NAME IS PETER\"\n",
    "\n",
    "print(a.isupper())\n",
    "print(b.isupper())\n",
    "print(c.isupper())"
   ]
  },
  {
   "cell_type": "code",
   "execution_count": null,
   "metadata": {},
   "outputs": [],
   "source": []
  }
 ],
 "metadata": {
  "kernelspec": {
   "display_name": "Python 3",
   "language": "python",
   "name": "python3"
  },
  "language_info": {
   "codemirror_mode": {
    "name": "ipython",
    "version": 3
   },
   "file_extension": ".py",
   "mimetype": "text/x-python",
   "name": "python",
   "nbconvert_exporter": "python",
   "pygments_lexer": "ipython3",
   "version": "3.7.6"
  }
 },
 "nbformat": 4,
 "nbformat_minor": 4
}
